{
 "cells": [
  {
   "cell_type": "code",
   "execution_count": 182,
   "metadata": {},
   "outputs": [],
   "source": [
    "import pandas as pd\n",
    "import matplotlib.pyplot as plt\n",
    "import numpy as np\n",
    "from portfolio_functions import *\n",
    "from sklearn.covariance import EmpiricalCovariance"
   ]
  },
  {
   "cell_type": "code",
   "execution_count": 183,
   "metadata": {},
   "outputs": [
    {
     "data": {
      "text/html": [
       "<div>\n",
       "<style scoped>\n",
       "    .dataframe tbody tr th:only-of-type {\n",
       "        vertical-align: middle;\n",
       "    }\n",
       "\n",
       "    .dataframe tbody tr th {\n",
       "        vertical-align: top;\n",
       "    }\n",
       "\n",
       "    .dataframe thead th {\n",
       "        text-align: right;\n",
       "    }\n",
       "</style>\n",
       "<table border=\"1\" class=\"dataframe\">\n",
       "  <thead>\n",
       "    <tr style=\"text-align: right;\">\n",
       "      <th></th>\n",
       "      <th>Month</th>\n",
       "      <th>Mkt-RF</th>\n",
       "      <th>RF</th>\n",
       "      <th>Agric</th>\n",
       "      <th>Food</th>\n",
       "      <th>Soda</th>\n",
       "      <th>Beer</th>\n",
       "      <th>Smoke</th>\n",
       "      <th>Toys</th>\n",
       "      <th>Fun</th>\n",
       "      <th>...</th>\n",
       "      <th>BusSv</th>\n",
       "      <th>Comps</th>\n",
       "      <th>Chips</th>\n",
       "      <th>LabEq</th>\n",
       "      <th>Paper</th>\n",
       "      <th>Boxes</th>\n",
       "      <th>Trans</th>\n",
       "      <th>Whlsl</th>\n",
       "      <th>Rtail</th>\n",
       "      <th>Meals</th>\n",
       "    </tr>\n",
       "  </thead>\n",
       "  <tbody>\n",
       "    <tr>\n",
       "      <th>0</th>\n",
       "      <td>198601</td>\n",
       "      <td>0.65</td>\n",
       "      <td>0.56</td>\n",
       "      <td>7.92</td>\n",
       "      <td>2.38</td>\n",
       "      <td>-1.20</td>\n",
       "      <td>-0.86</td>\n",
       "      <td>5.55</td>\n",
       "      <td>2.14</td>\n",
       "      <td>3.91</td>\n",
       "      <td>...</td>\n",
       "      <td>0.78</td>\n",
       "      <td>-1.11</td>\n",
       "      <td>0.85</td>\n",
       "      <td>3.80</td>\n",
       "      <td>4.61</td>\n",
       "      <td>1.91</td>\n",
       "      <td>5.60</td>\n",
       "      <td>2.48</td>\n",
       "      <td>1.67</td>\n",
       "      <td>-0.09</td>\n",
       "    </tr>\n",
       "    <tr>\n",
       "      <th>1</th>\n",
       "      <td>198602</td>\n",
       "      <td>7.13</td>\n",
       "      <td>0.53</td>\n",
       "      <td>13.98</td>\n",
       "      <td>7.89</td>\n",
       "      <td>11.68</td>\n",
       "      <td>7.71</td>\n",
       "      <td>12.20</td>\n",
       "      <td>10.72</td>\n",
       "      <td>8.28</td>\n",
       "      <td>...</td>\n",
       "      <td>7.47</td>\n",
       "      <td>2.71</td>\n",
       "      <td>8.34</td>\n",
       "      <td>9.98</td>\n",
       "      <td>8.68</td>\n",
       "      <td>10.61</td>\n",
       "      <td>7.03</td>\n",
       "      <td>8.85</td>\n",
       "      <td>7.21</td>\n",
       "      <td>9.27</td>\n",
       "    </tr>\n",
       "    <tr>\n",
       "      <th>2</th>\n",
       "      <td>198603</td>\n",
       "      <td>4.88</td>\n",
       "      <td>0.60</td>\n",
       "      <td>2.74</td>\n",
       "      <td>7.84</td>\n",
       "      <td>10.89</td>\n",
       "      <td>9.17</td>\n",
       "      <td>11.52</td>\n",
       "      <td>5.65</td>\n",
       "      <td>6.86</td>\n",
       "      <td>...</td>\n",
       "      <td>4.96</td>\n",
       "      <td>-0.11</td>\n",
       "      <td>0.04</td>\n",
       "      <td>-1.15</td>\n",
       "      <td>4.18</td>\n",
       "      <td>5.61</td>\n",
       "      <td>3.22</td>\n",
       "      <td>7.41</td>\n",
       "      <td>9.11</td>\n",
       "      <td>6.42</td>\n",
       "    </tr>\n",
       "    <tr>\n",
       "      <th>3</th>\n",
       "      <td>198604</td>\n",
       "      <td>-1.31</td>\n",
       "      <td>0.52</td>\n",
       "      <td>5.24</td>\n",
       "      <td>-0.57</td>\n",
       "      <td>4.44</td>\n",
       "      <td>-2.92</td>\n",
       "      <td>3.64</td>\n",
       "      <td>3.91</td>\n",
       "      <td>8.36</td>\n",
       "      <td>...</td>\n",
       "      <td>3.33</td>\n",
       "      <td>3.87</td>\n",
       "      <td>3.55</td>\n",
       "      <td>2.69</td>\n",
       "      <td>-2.50</td>\n",
       "      <td>-0.93</td>\n",
       "      <td>-2.64</td>\n",
       "      <td>1.70</td>\n",
       "      <td>-0.70</td>\n",
       "      <td>3.86</td>\n",
       "    </tr>\n",
       "    <tr>\n",
       "      <th>4</th>\n",
       "      <td>198605</td>\n",
       "      <td>4.62</td>\n",
       "      <td>0.49</td>\n",
       "      <td>1.08</td>\n",
       "      <td>8.55</td>\n",
       "      <td>7.95</td>\n",
       "      <td>6.37</td>\n",
       "      <td>10.16</td>\n",
       "      <td>3.16</td>\n",
       "      <td>5.91</td>\n",
       "      <td>...</td>\n",
       "      <td>5.41</td>\n",
       "      <td>1.01</td>\n",
       "      <td>-0.75</td>\n",
       "      <td>2.51</td>\n",
       "      <td>6.66</td>\n",
       "      <td>5.07</td>\n",
       "      <td>0.70</td>\n",
       "      <td>5.52</td>\n",
       "      <td>11.95</td>\n",
       "      <td>4.89</td>\n",
       "    </tr>\n",
       "  </tbody>\n",
       "</table>\n",
       "<p>5 rows × 46 columns</p>\n",
       "</div>"
      ],
      "text/plain": [
       "    Month  Mkt-RF    RF  Agric  Food   Soda   Beer   Smoke  Toys   Fun    ...  \\\n",
       "0  198601    0.65  0.56   7.92   2.38  -1.20  -0.86   5.55   2.14   3.91  ...   \n",
       "1  198602    7.13  0.53  13.98   7.89  11.68   7.71  12.20  10.72   8.28  ...   \n",
       "2  198603    4.88  0.60   2.74   7.84  10.89   9.17  11.52   5.65   6.86  ...   \n",
       "3  198604   -1.31  0.52   5.24  -0.57   4.44  -2.92   3.64   3.91   8.36  ...   \n",
       "4  198605    4.62  0.49   1.08   8.55   7.95   6.37  10.16   3.16   5.91  ...   \n",
       "\n",
       "   BusSv  Comps  Chips  LabEq  Paper  Boxes  Trans  Whlsl  Rtail  Meals  \n",
       "0   0.78  -1.11   0.85   3.80   4.61   1.91   5.60   2.48   1.67  -0.09  \n",
       "1   7.47   2.71   8.34   9.98   8.68  10.61   7.03   8.85   7.21   9.27  \n",
       "2   4.96  -0.11   0.04  -1.15   4.18   5.61   3.22   7.41   9.11   6.42  \n",
       "3   3.33   3.87   3.55   2.69  -2.50  -0.93  -2.64   1.70  -0.70   3.86  \n",
       "4   5.41   1.01  -0.75   2.51   6.66   5.07   0.70   5.52  11.95   4.89  \n",
       "\n",
       "[5 rows x 46 columns]"
      ]
     },
     "execution_count": 183,
     "metadata": {},
     "output_type": "execute_result"
    }
   ],
   "source": [
    "#load dataframe\n",
    "df = pd.read_csv(\"gp_data_1986_to_2015.csv\")\n",
    "\n",
    "#preview\n",
    "df.head()"
   ]
  },
  {
   "cell_type": "markdown",
   "metadata": {},
   "source": [
    "## 1. Data Exploration and Analysis\n",
    "\n",
    "First, we will reinforce the tools we have learned in the class and construct diversified portfolios among\n",
    "the 43 industries."
   ]
  },
  {
   "cell_type": "markdown",
   "metadata": {},
   "source": [
    "### 1.1. Pre-processing\n",
    "\n",
    "Calculate the excess return of the 43 industry portfolios. (Note that the excess return of the\n",
    "market portfolio is already provided.) Subsequently, we will work with the excess returns directly\n",
    "and treat the riskless rate as zero. Also, you may also treat each industry portfolio as an\n",
    "individual asset.\n"
   ]
  },
  {
   "cell_type": "code",
   "execution_count": 184,
   "metadata": {},
   "outputs": [
    {
     "data": {
      "text/html": [
       "<div>\n",
       "<style scoped>\n",
       "    .dataframe tbody tr th:only-of-type {\n",
       "        vertical-align: middle;\n",
       "    }\n",
       "\n",
       "    .dataframe tbody tr th {\n",
       "        vertical-align: top;\n",
       "    }\n",
       "\n",
       "    .dataframe thead th {\n",
       "        text-align: right;\n",
       "    }\n",
       "</style>\n",
       "<table border=\"1\" class=\"dataframe\">\n",
       "  <thead>\n",
       "    <tr style=\"text-align: right;\">\n",
       "      <th></th>\n",
       "      <th>Month</th>\n",
       "      <th>Mkt-RF</th>\n",
       "      <th>RF</th>\n",
       "      <th>Agric</th>\n",
       "      <th>Food</th>\n",
       "      <th>Soda</th>\n",
       "      <th>Beer</th>\n",
       "      <th>Smoke</th>\n",
       "      <th>Toys</th>\n",
       "      <th>Fun</th>\n",
       "      <th>...</th>\n",
       "      <th>BusSv</th>\n",
       "      <th>Comps</th>\n",
       "      <th>Chips</th>\n",
       "      <th>LabEq</th>\n",
       "      <th>Paper</th>\n",
       "      <th>Boxes</th>\n",
       "      <th>Trans</th>\n",
       "      <th>Whlsl</th>\n",
       "      <th>Rtail</th>\n",
       "      <th>Meals</th>\n",
       "    </tr>\n",
       "  </thead>\n",
       "  <tbody>\n",
       "    <tr>\n",
       "      <th>0</th>\n",
       "      <td>198601</td>\n",
       "      <td>0.65</td>\n",
       "      <td>0.0</td>\n",
       "      <td>7.36</td>\n",
       "      <td>1.82</td>\n",
       "      <td>-1.76</td>\n",
       "      <td>-1.42</td>\n",
       "      <td>4.99</td>\n",
       "      <td>1.58</td>\n",
       "      <td>3.35</td>\n",
       "      <td>...</td>\n",
       "      <td>0.22</td>\n",
       "      <td>-1.67</td>\n",
       "      <td>0.29</td>\n",
       "      <td>3.24</td>\n",
       "      <td>4.05</td>\n",
       "      <td>1.35</td>\n",
       "      <td>5.04</td>\n",
       "      <td>1.92</td>\n",
       "      <td>1.11</td>\n",
       "      <td>-0.65</td>\n",
       "    </tr>\n",
       "    <tr>\n",
       "      <th>1</th>\n",
       "      <td>198602</td>\n",
       "      <td>7.13</td>\n",
       "      <td>0.0</td>\n",
       "      <td>13.45</td>\n",
       "      <td>7.36</td>\n",
       "      <td>11.15</td>\n",
       "      <td>7.18</td>\n",
       "      <td>11.67</td>\n",
       "      <td>10.19</td>\n",
       "      <td>7.75</td>\n",
       "      <td>...</td>\n",
       "      <td>6.94</td>\n",
       "      <td>2.18</td>\n",
       "      <td>7.81</td>\n",
       "      <td>9.45</td>\n",
       "      <td>8.15</td>\n",
       "      <td>10.08</td>\n",
       "      <td>6.50</td>\n",
       "      <td>8.32</td>\n",
       "      <td>6.68</td>\n",
       "      <td>8.74</td>\n",
       "    </tr>\n",
       "    <tr>\n",
       "      <th>2</th>\n",
       "      <td>198603</td>\n",
       "      <td>4.88</td>\n",
       "      <td>0.0</td>\n",
       "      <td>2.14</td>\n",
       "      <td>7.24</td>\n",
       "      <td>10.29</td>\n",
       "      <td>8.57</td>\n",
       "      <td>10.92</td>\n",
       "      <td>5.05</td>\n",
       "      <td>6.26</td>\n",
       "      <td>...</td>\n",
       "      <td>4.36</td>\n",
       "      <td>-0.71</td>\n",
       "      <td>-0.56</td>\n",
       "      <td>-1.75</td>\n",
       "      <td>3.58</td>\n",
       "      <td>5.01</td>\n",
       "      <td>2.62</td>\n",
       "      <td>6.81</td>\n",
       "      <td>8.51</td>\n",
       "      <td>5.82</td>\n",
       "    </tr>\n",
       "    <tr>\n",
       "      <th>3</th>\n",
       "      <td>198604</td>\n",
       "      <td>-1.31</td>\n",
       "      <td>0.0</td>\n",
       "      <td>4.72</td>\n",
       "      <td>-1.09</td>\n",
       "      <td>3.92</td>\n",
       "      <td>-3.44</td>\n",
       "      <td>3.12</td>\n",
       "      <td>3.39</td>\n",
       "      <td>7.84</td>\n",
       "      <td>...</td>\n",
       "      <td>2.81</td>\n",
       "      <td>3.35</td>\n",
       "      <td>3.03</td>\n",
       "      <td>2.17</td>\n",
       "      <td>-3.02</td>\n",
       "      <td>-1.45</td>\n",
       "      <td>-3.16</td>\n",
       "      <td>1.18</td>\n",
       "      <td>-1.22</td>\n",
       "      <td>3.34</td>\n",
       "    </tr>\n",
       "    <tr>\n",
       "      <th>4</th>\n",
       "      <td>198605</td>\n",
       "      <td>4.62</td>\n",
       "      <td>0.0</td>\n",
       "      <td>0.59</td>\n",
       "      <td>8.06</td>\n",
       "      <td>7.46</td>\n",
       "      <td>5.88</td>\n",
       "      <td>9.67</td>\n",
       "      <td>2.67</td>\n",
       "      <td>5.42</td>\n",
       "      <td>...</td>\n",
       "      <td>4.92</td>\n",
       "      <td>0.52</td>\n",
       "      <td>-1.24</td>\n",
       "      <td>2.02</td>\n",
       "      <td>6.17</td>\n",
       "      <td>4.58</td>\n",
       "      <td>0.21</td>\n",
       "      <td>5.03</td>\n",
       "      <td>11.46</td>\n",
       "      <td>4.40</td>\n",
       "    </tr>\n",
       "  </tbody>\n",
       "</table>\n",
       "<p>5 rows × 46 columns</p>\n",
       "</div>"
      ],
      "text/plain": [
       "    Month  Mkt-RF   RF  Agric  Food   Soda   Beer   Smoke  Toys   Fun    ...  \\\n",
       "0  198601    0.65  0.0   7.36   1.82  -1.76  -1.42   4.99   1.58   3.35  ...   \n",
       "1  198602    7.13  0.0  13.45   7.36  11.15   7.18  11.67  10.19   7.75  ...   \n",
       "2  198603    4.88  0.0   2.14   7.24  10.29   8.57  10.92   5.05   6.26  ...   \n",
       "3  198604   -1.31  0.0   4.72  -1.09   3.92  -3.44   3.12   3.39   7.84  ...   \n",
       "4  198605    4.62  0.0   0.59   8.06   7.46   5.88   9.67   2.67   5.42  ...   \n",
       "\n",
       "   BusSv  Comps  Chips  LabEq  Paper  Boxes  Trans  Whlsl  Rtail  Meals  \n",
       "0   0.22  -1.67   0.29   3.24   4.05   1.35   5.04   1.92   1.11  -0.65  \n",
       "1   6.94   2.18   7.81   9.45   8.15  10.08   6.50   8.32   6.68   8.74  \n",
       "2   4.36  -0.71  -0.56  -1.75   3.58   5.01   2.62   6.81   8.51   5.82  \n",
       "3   2.81   3.35   3.03   2.17  -3.02  -1.45  -3.16   1.18  -1.22   3.34  \n",
       "4   4.92   0.52  -1.24   2.02   6.17   4.58   0.21   5.03  11.46   4.40  \n",
       "\n",
       "[5 rows x 46 columns]"
      ]
     },
     "execution_count": 184,
     "metadata": {},
     "output_type": "execute_result"
    }
   ],
   "source": [
    "#directly convert original monthly returns to excess returns; subtract rf from rf so risk-free rate is 0\n",
    "df.iloc[:, 2:] = df.iloc[:, 2:].sub(df.iloc[:, 2], axis = 0)\n",
    "df.head()"
   ]
  },
  {
   "cell_type": "markdown",
   "metadata": {},
   "source": [
    "### 1.2. Basic Portfolio Construction and In-sample analysis\n",
    "\n",
    "1. Suppose you are asked to allocate your investment among the 43 industries. Use the 1986-2015\n",
    "historical data, construct the following three portfolios:\n",
    "<br>\n",
    "• The equally weighted portfolio (EWP);\n",
    "<br>\n",
    "• The tangency portfolio (TAN);\n",
    "<br>\n",
    "• The global minimum variance portfolio (GMV)."
   ]
  },
  {
   "cell_type": "code",
   "execution_count": 185,
   "metadata": {},
   "outputs": [],
   "source": [
    "#calculate expected return and covariance matrix\n",
    "expected_rtn = estimate_mu(df.iloc[:, 3:])\n",
    "cov_matrix = estimate_V(df.iloc[:, 3:])\n",
    "\n",
    "#form portfolios\n",
    "tangency_wt = tangency(expected_rtn, cov_matrix)\n",
    "gmv_wt = gmv(cov_matrix)\n",
    "ewp_wt = ewp(43)"
   ]
  },
  {
   "cell_type": "markdown",
   "metadata": {},
   "source": [
    "2. Calculate the realized (in-sample) expected returns, standard deviations, Sharpe ratios, and\n",
    "betas of every 43 industry portfolio, as well as the market portfolio (MKT), EWP, TAN, and\n",
    "GMV."
   ]
  },
  {
   "cell_type": "code",
   "execution_count": 186,
   "metadata": {},
   "outputs": [],
   "source": [
    "#calculate monthly returns for each portfolio\n",
    "df[\"Tangency\"] = df.iloc[:, 3:46] @ tangency_wt\n",
    "df[\"GMV\"] = df.iloc[:, 3:46] @ gmv_wt\n",
    "df[\"EWP\"] = df.iloc[:, 3:46] @ ewp_wt\n",
    "\n",
    "#dictionary of portfolio weights to be used later\n",
    "wt = {\n",
    "    \"43\": tangency_wt,\n",
    "    \"44\": gmv_wt,\n",
    "    \"45\": ewp_wt\n",
    "}\n",
    "\n",
    "output = {}\n",
    "\n",
    "#calculate sigma for each asset (excl mkt)\n",
    "for i in range(46):\n",
    "    col = df.columns[i + 3]\n",
    "    cov = EmpiricalCovariance().fit(df.iloc[:, [1, i + 3]]).covariance_\n",
    "    beta = cov[0, 1]/cov[0,0]\n",
    "\n",
    "    if i < 43:\n",
    "        portfolio_wt = np.zeros(43)\n",
    "        portfolio_wt[i] += 1\n",
    "        perf_summary  = evaluate_portfolio_performance_on_data(portfolio_wt, df.iloc[:, 3:46])\n",
    "    else:\n",
    "        perf_summary = evaluate_portfolio_performance_on_data(wt[f\"{i}\"], df.iloc[:, 3:46])\n",
    "\n",
    "    output[col] = [perf_summary['Er'], perf_summary['sigma'], perf_summary['Sharpe'], beta]\n",
    "\n",
    "#calculate stats for market portfolio\n",
    "Er_mkt = df[\"Mkt-RF\"].mean()\n",
    "Sigma_mkt = df.iloc[:, 1].std(ddof = 0)\n",
    "Sharpe_mkt = Er_mkt/Sigma_mkt\n",
    "beta_mkt = 1\n",
    "output[\"Mkt\"] = [Er_mkt, Sigma_mkt, Sharpe_mkt, beta_mkt]\n",
    "\n",
    "#output dataframe\n",
    "output = pd.DataFrame.from_dict(output, orient = 'index', columns = ['Er', 'Sigma', 'Sharpe', 'Beta'])"
   ]
  },
  {
   "cell_type": "markdown",
   "metadata": {},
   "source": [
    "Deliverable: In a 3 by 4 table, summarize the three in-sample performance metrics (i.e., expected return,\n",
    "standard deviation, and Sharpe ratio) of the four portfolios (MKT, EWP, TAN, and GMV)."
   ]
  },
  {
   "cell_type": "code",
   "execution_count": 187,
   "metadata": {},
   "outputs": [
    {
     "data": {
      "text/html": [
       "<div>\n",
       "<style scoped>\n",
       "    .dataframe tbody tr th:only-of-type {\n",
       "        vertical-align: middle;\n",
       "    }\n",
       "\n",
       "    .dataframe tbody tr th {\n",
       "        vertical-align: top;\n",
       "    }\n",
       "\n",
       "    .dataframe thead th {\n",
       "        text-align: right;\n",
       "    }\n",
       "</style>\n",
       "<table border=\"1\" class=\"dataframe\">\n",
       "  <thead>\n",
       "    <tr style=\"text-align: right;\">\n",
       "      <th></th>\n",
       "      <th>Er</th>\n",
       "      <th>Sigma</th>\n",
       "      <th>Sharpe</th>\n",
       "    </tr>\n",
       "  </thead>\n",
       "  <tbody>\n",
       "    <tr>\n",
       "      <th>Mkt</th>\n",
       "      <td>0.636361</td>\n",
       "      <td>4.478294</td>\n",
       "      <td>0.142099</td>\n",
       "    </tr>\n",
       "    <tr>\n",
       "      <th>EWP</th>\n",
       "      <td>0.718348</td>\n",
       "      <td>4.650387</td>\n",
       "      <td>0.154470</td>\n",
       "    </tr>\n",
       "    <tr>\n",
       "      <th>Tangency</th>\n",
       "      <td>1.916838</td>\n",
       "      <td>5.281517</td>\n",
       "      <td>0.362933</td>\n",
       "    </tr>\n",
       "    <tr>\n",
       "      <th>GMV</th>\n",
       "      <td>0.562142</td>\n",
       "      <td>2.860151</td>\n",
       "      <td>0.196543</td>\n",
       "    </tr>\n",
       "  </tbody>\n",
       "</table>\n",
       "</div>"
      ],
      "text/plain": [
       "                Er     Sigma    Sharpe\n",
       "Mkt       0.636361  4.478294  0.142099\n",
       "EWP       0.718348  4.650387  0.154470\n",
       "Tangency  1.916838  5.281517  0.362933\n",
       "GMV       0.562142  2.860151  0.196543"
      ]
     },
     "execution_count": 187,
     "metadata": {},
     "output_type": "execute_result"
    }
   ],
   "source": [
    "output.loc[[\"Mkt\", \"EWP\", \"Tangency\", \"GMV\"],[\"Er\", \"Sigma\", \"Sharpe\"]]"
   ]
  },
  {
   "cell_type": "markdown",
   "metadata": {},
   "source": [
    "Deliverable: Plot the following two graphs related to in-sample analysis:\n",
    "<br>\n",
    "(a) The σ vs. E[r] diagram. This diagram includes all of the 43 industry portfolios, the special\n",
    "portfolios (i.e., EWP, TAN, and GMV) constructed from the 30-year data, the market\n",
    "portfolio (MKT), and the in-sample efficient frontier.\n",
    "<br>\n",
    "(b) The β vs. E[r] diagram. This diagram includes the same set of portfolios (the 43 industry\n",
    "portfolios treated as risky assets, MKT, EWP, TAN, and GMV) and a straight line that\n",
    "represents the relationship between β and E[r] implied by CAPM (also known as the security\n",
    "market line)"
   ]
  },
  {
   "cell_type": "code",
   "execution_count": 188,
   "metadata": {},
   "outputs": [
    {
     "name": "stdout",
     "output_type": "stream",
     "text": [
      "The in-sample tangency portfolio is:  [-0.051  0.158  0.058  0.143  0.26  -0.395  0.115 -0.252 -0.347 -0.033\n",
      " -0.028  0.301  0.248 -0.115  0.258  0.037  0.016 -0.064 -0.437 -0.08\n",
      "  0.03   0.175  0.017 -0.163 -0.073  0.397 -0.053  0.358 -0.06   0.265\n",
      "  0.32  -0.31  -0.444  0.436 -0.292  0.353  0.078  0.102  0.089  0.281\n",
      " -0.651  0.265  0.088]\n",
      "The in-sample global minimum variance portfolio is:  [ 0.081  0.1   -0.005 -0.012 -0.042 -0.034 -0.026  0.044  0.211 -0.049\n",
      " -0.034  0.092 -0.023 -0.189 -0.067 -0.015 -0.047 -0.15  -0.074  0.071\n",
      " -0.007 -0.132 -0.039 -0.135 -0.032  0.116  0.057  0.028 -0.002  0.126\n",
      "  0.385  0.097 -0.049 -0.06   0.098  0.023  0.002  0.123  0.07   0.212\n",
      "  0.06   0.169  0.056]\n"
     ]
    },
    {
     "data": {
      "image/png": "[encoded data removed]",
      "text/plain": [
       "<Figure size 1440x720 with 1 Axes>"
      ]
     },
     "metadata": {
      "needs_background": "light"
     },
     "output_type": "display_data"
    }
   ],
   "source": [
    "#a)\n",
    "plt.figure(figsize=(20, 10))\n",
    "\n",
    "#plot other 43 portfolios\n",
    "portfolio_names = output.index\n",
    "plt.scatter(output.iloc[:,1], output.iloc[:,0], label = \"43 industry portfolios\")\n",
    "#plot market portfolio\n",
    "plt.scatter(output.loc[\"Mkt\", \"Sigma\"], output.loc[\"Mkt\", \"Er\"], label = \"Mkt\", marker = \"3\")\n",
    "\n",
    "#plot efficient frontier\n",
    "plot_evaluation_results_in_sample(df.iloc[:, 3:46])\n",
    "\n"
   ]
  },
  {
   "cell_type": "code",
   "execution_count": 189,
   "metadata": {},
   "outputs": [
    {
     "data": {
      "text/plain": [
       "<matplotlib.legend.Legend at 0x1e0bd9d7310>"
      ]
     },
     "execution_count": 189,
     "metadata": {},
     "output_type": "execute_result"
    },
    {
     "data": {
      "image/png": "[encoded data removed]",
      "text/plain": [
       "<Figure size 1440x720 with 1 Axes>"
      ]
     },
     "metadata": {
      "needs_background": "light"
     },
     "output_type": "display_data"
    }
   ],
   "source": [
    "#b)\n",
    "#calculate sml\n",
    "beta_range = np.arange(0,1.5,0.01)\n",
    "Er_range = beta_range * output.loc[\"Mkt\", \"Er\"]\n",
    "\n",
    "plt.figure(figsize = (20, 10))\n",
    "\n",
    "#plot other 43 portfolios\n",
    "plt.scatter(output.iloc[:,-1], output.iloc[:,0], label = \"43 industry portfolios\")\n",
    "\n",
    "#plot other relevant portfolios\n",
    "for i in range(43, 47):\n",
    "    plt.scatter(output.iloc[i,-1], output.iloc[i,0], label = portfolio_names[i], marker = f\"{i - 42}\")\n",
    "\n",
    "#plot SML\n",
    "plt.plot(beta_range, Er_range, label = \"Security Market Line\")\n",
    "\n",
    "plt.legend()"
   ]
  },
  {
   "cell_type": "markdown",
   "metadata": {},
   "source": [
    "## 1.3.  Robust Portfolio Construction and Out-of-sample Analysis"
   ]
  },
  {
   "cell_type": "code",
   "execution_count": 190,
   "metadata": {},
   "outputs": [],
   "source": [
    "#split into train and test\n",
    "train = df.loc[df[\"Month\"] <= 201012].drop([\"GMV\", \"Tangency\", \"EWP\"], axis = 1)\n",
    "test = df.loc[df[\"Month\"] >201012].drop([\"GMV\", \"Tangency\", \"EWP\"], axis = 1)\n",
    "\n",
    "#function to calculate beta for each dataset, assuming market-risk free is in col 1 and other assets are in col 3 + i, 0 <= i <= 42\n",
    "def get_beta(df):\n",
    "    beta = []\n",
    "    for i in range(43):\n",
    "        covMatrix = EmpiricalCovariance().fit(train.iloc[:, [1, 3 + i]]).covariance_\n",
    "        beta.append(covMatrix[0, 1]/covMatrix[0,0])\n",
    "\n",
    "    return np.array(beta)\n",
    "\n",
    "#function to plot efficient frontier\n",
    "def plot_ef(wt_t, wt_gmv, V, mu, label):\n",
    "    trange = np.arange(0,3,0.01)\n",
    "    sigma_range = []\n",
    "    er_range = []\n",
    "\n",
    "    mu = mu.reshape(-1)\n",
    "\n",
    "    for i in trange:\n",
    "        wt_mix = i * wt_t + (1 - i) * wt_gmv\n",
    "        var = wt_mix.T @ V @ wt_mix\n",
    "        sigma_range.append(var ** 0.5)\n",
    "        er_range.append(wt_mix.T @ mu)\n",
    "    plt.plot(sigma_range, er_range, label = label)"
   ]
  },
  {
   "cell_type": "markdown",
   "metadata": {},
   "source": [
    " Estimating Beta. We will use the following shrinkage estimator of beta:\n",
    " <br>\n",
    "βshrink = 0.5β¯ + 0.5β. ˆ\n",
    "<br>\n",
    "<br>\n",
    "In the expression above, β¯ =\n",
    "1\n",
    "43\n",
    "∑43\n",
    "i=1 βˆ\n",
    "i\n",
    "is the grand average of beta across industries, βˆ is the\n",
    "beta vector directly estimated from the sample covariance with MKT, and 0.5 is the shrinkage\n",
    "constant that has been determined for you.\n"
   ]
  },
  {
   "cell_type": "code",
   "execution_count": 191,
   "metadata": {},
   "outputs": [
    {
     "data": {
      "text/plain": [
       "array([0.85701587, 0.78554777, 0.91878221, 0.81845334, 0.80050887,\n",
       "       1.0043332 , 1.1510755 , 0.99439164, 0.84918986, 1.04182083,\n",
       "       0.89464713, 0.90973707, 0.85773813, 0.99398656, 1.01006935,\n",
       "       1.07774378, 1.03878029, 1.07091068, 1.20400211, 1.00267582,\n",
       "       1.1096002 , 1.10613155, 1.10933726, 0.99626296, 0.98560381,\n",
       "       0.77305909, 0.69524505, 1.01189852, 1.02162797, 0.82121896,\n",
       "       0.69609359, 0.95303175, 0.94852694, 1.13814019, 1.18307503,\n",
       "       1.23344361, 1.13174117, 0.94301642, 0.96128002, 0.95229254,\n",
       "       0.94161219, 0.98065442, 0.9131609 ])"
      ]
     },
     "execution_count": 191,
     "metadata": {},
     "output_type": "execute_result"
    }
   ],
   "source": [
    "#calculate shrinked beta\n",
    "beta_hat = get_beta(train)\n",
    "beta_bar = np.mean(beta_hat)\n",
    "shrinked_beta = 0.5 * beta_bar + 0.5 * beta_hat\n",
    "shrinked_beta"
   ]
  },
  {
   "cell_type": "markdown",
   "metadata": {},
   "source": [
    "Estimating Expected Return. Since estimating the expected return of an asset is a notoriously\n",
    "difficult task, we will impose two layers of robustness in the estimation:\n",
    "<br>\n",
    "- First, we will use the CAPM-based expected return. That is the expected return implied\n",
    "by CAPM that only depends on the value of beta.\n",
    "<br>\n",
    "- Second, we will use the robust estimation of beta itself; please see above"
   ]
  },
  {
   "cell_type": "code",
   "execution_count": 192,
   "metadata": {},
   "outputs": [
    {
     "data": {
      "text/plain": [
       "array([0.48118584, 0.44105889, 0.51586558, 0.45953427, 0.44945905,\n",
       "       0.56389961, 0.64629052, 0.55831776, 0.4767918 , 0.58494767,\n",
       "       0.50231454, 0.51078704, 0.48159137, 0.55809032, 0.56712027,\n",
       "       0.6051172 , 0.58324051, 0.60128065, 0.67600705, 0.56296905,\n",
       "       0.62300352, 0.62105599, 0.62285589, 0.55936844, 0.55338369,\n",
       "       0.43404691, 0.39035692, 0.56814729, 0.57361005, 0.46108707,\n",
       "       0.39083335, 0.53509556, 0.53256626, 0.63902778, 0.66425719,\n",
       "       0.69253747, 0.63543494, 0.52947229, 0.53972669, 0.53468052,\n",
       "       0.52868386, 0.55060477, 0.5127094 ])"
      ]
     },
     "execution_count": 192,
     "metadata": {},
     "output_type": "execute_result"
    }
   ],
   "source": [
    "#calculate expected returns (qn: is this what's referred to as \"robust estimation of beta\"?)\n",
    "capm_returns = shrinked_beta * train[\"Mkt-RF\"].mean()\n",
    "capm_returns"
   ]
  },
  {
   "cell_type": "markdown",
   "metadata": {},
   "source": [
    "Estimating covariance matrix. We will use the following shrinkage estimator of covariance matrix:\n",
    "<br>\n",
    "Vshrink = 0.3V\n",
    "CC + 0.7V . ˆ\n",
    "<br>\n",
    "<br>\n",
    "In the expression above, V\n",
    "CC is the constant correlation matrix estimated from data, Vˆ is the\n",
    "sample covariance matrix, and 0.3 is the shrinkage constant that has been determined for you.\n"
   ]
  },
  {
   "cell_type": "code",
   "execution_count": 193,
   "metadata": {},
   "outputs": [
    {
     "data": {
      "text/html": [
       "<div>\n",
       "<style scoped>\n",
       "    .dataframe tbody tr th:only-of-type {\n",
       "        vertical-align: middle;\n",
       "    }\n",
       "\n",
       "    .dataframe tbody tr th {\n",
       "        vertical-align: top;\n",
       "    }\n",
       "\n",
       "    .dataframe thead th {\n",
       "        text-align: right;\n",
       "    }\n",
       "</style>\n",
       "<table border=\"1\" class=\"dataframe\">\n",
       "  <thead>\n",
       "    <tr style=\"text-align: right;\">\n",
       "      <th></th>\n",
       "      <th>Agric</th>\n",
       "      <th>Food</th>\n",
       "      <th>Soda</th>\n",
       "      <th>Beer</th>\n",
       "      <th>Smoke</th>\n",
       "      <th>Toys</th>\n",
       "      <th>Fun</th>\n",
       "      <th>Books</th>\n",
       "      <th>Hshld</th>\n",
       "      <th>Clths</th>\n",
       "      <th>...</th>\n",
       "      <th>BusSv</th>\n",
       "      <th>Comps</th>\n",
       "      <th>Chips</th>\n",
       "      <th>LabEq</th>\n",
       "      <th>Paper</th>\n",
       "      <th>Boxes</th>\n",
       "      <th>Trans</th>\n",
       "      <th>Whlsl</th>\n",
       "      <th>Rtail</th>\n",
       "      <th>Meals</th>\n",
       "    </tr>\n",
       "  </thead>\n",
       "  <tbody>\n",
       "    <tr>\n",
       "      <th>Agric</th>\n",
       "      <td>42.451075</td>\n",
       "      <td>12.777359</td>\n",
       "      <td>17.209770</td>\n",
       "      <td>14.250394</td>\n",
       "      <td>16.219475</td>\n",
       "      <td>18.914251</td>\n",
       "      <td>22.638322</td>\n",
       "      <td>18.296609</td>\n",
       "      <td>13.223025</td>\n",
       "      <td>20.850108</td>\n",
       "      <td>...</td>\n",
       "      <td>20.903907</td>\n",
       "      <td>21.584443</td>\n",
       "      <td>23.892899</td>\n",
       "      <td>22.037766</td>\n",
       "      <td>16.420213</td>\n",
       "      <td>18.782065</td>\n",
       "      <td>17.231559</td>\n",
       "      <td>16.281772</td>\n",
       "      <td>17.546442</td>\n",
       "      <td>16.058984</td>\n",
       "    </tr>\n",
       "    <tr>\n",
       "      <th>Food</th>\n",
       "      <td>12.777359</td>\n",
       "      <td>21.779965</td>\n",
       "      <td>17.443900</td>\n",
       "      <td>15.594761</td>\n",
       "      <td>18.491971</td>\n",
       "      <td>16.165161</td>\n",
       "      <td>17.568479</td>\n",
       "      <td>14.612466</td>\n",
       "      <td>13.324245</td>\n",
       "      <td>17.727510</td>\n",
       "      <td>...</td>\n",
       "      <td>13.496575</td>\n",
       "      <td>12.765217</td>\n",
       "      <td>13.542835</td>\n",
       "      <td>14.209125</td>\n",
       "      <td>13.929295</td>\n",
       "      <td>14.572044</td>\n",
       "      <td>13.161099</td>\n",
       "      <td>13.146036</td>\n",
       "      <td>14.960421</td>\n",
       "      <td>14.271160</td>\n",
       "    </tr>\n",
       "    <tr>\n",
       "      <th>Soda</th>\n",
       "      <td>17.209770</td>\n",
       "      <td>17.443900</td>\n",
       "      <td>55.908805</td>\n",
       "      <td>22.182191</td>\n",
       "      <td>20.202499</td>\n",
       "      <td>23.873275</td>\n",
       "      <td>29.542519</td>\n",
       "      <td>22.979945</td>\n",
       "      <td>19.239053</td>\n",
       "      <td>25.678783</td>\n",
       "      <td>...</td>\n",
       "      <td>21.233660</td>\n",
       "      <td>22.694546</td>\n",
       "      <td>25.323608</td>\n",
       "      <td>24.002609</td>\n",
       "      <td>21.703203</td>\n",
       "      <td>21.708653</td>\n",
       "      <td>20.390975</td>\n",
       "      <td>20.700827</td>\n",
       "      <td>20.286513</td>\n",
       "      <td>20.347367</td>\n",
       "    </tr>\n",
       "    <tr>\n",
       "      <th>Beer</th>\n",
       "      <td>14.250394</td>\n",
       "      <td>15.594761</td>\n",
       "      <td>22.182191</td>\n",
       "      <td>29.627435</td>\n",
       "      <td>17.614668</td>\n",
       "      <td>18.133782</td>\n",
       "      <td>19.659889</td>\n",
       "      <td>14.860450</td>\n",
       "      <td>16.521366</td>\n",
       "      <td>18.113976</td>\n",
       "      <td>...</td>\n",
       "      <td>15.614236</td>\n",
       "      <td>15.218682</td>\n",
       "      <td>16.755136</td>\n",
       "      <td>16.111384</td>\n",
       "      <td>16.074474</td>\n",
       "      <td>16.009318</td>\n",
       "      <td>15.115613</td>\n",
       "      <td>13.786886</td>\n",
       "      <td>16.046628</td>\n",
       "      <td>16.005152</td>\n",
       "    </tr>\n",
       "    <tr>\n",
       "      <th>Smoke</th>\n",
       "      <td>16.219475</td>\n",
       "      <td>18.491971</td>\n",
       "      <td>20.202499</td>\n",
       "      <td>17.614668</td>\n",
       "      <td>52.002929</td>\n",
       "      <td>19.335637</td>\n",
       "      <td>21.328569</td>\n",
       "      <td>16.091168</td>\n",
       "      <td>15.338208</td>\n",
       "      <td>19.056979</td>\n",
       "      <td>...</td>\n",
       "      <td>16.705665</td>\n",
       "      <td>17.801113</td>\n",
       "      <td>17.488624</td>\n",
       "      <td>18.884657</td>\n",
       "      <td>17.748387</td>\n",
       "      <td>18.127234</td>\n",
       "      <td>14.123070</td>\n",
       "      <td>17.852719</td>\n",
       "      <td>14.949859</td>\n",
       "      <td>15.885271</td>\n",
       "    </tr>\n",
       "  </tbody>\n",
       "</table>\n",
       "<p>5 rows × 43 columns</p>\n",
       "</div>"
      ],
      "text/plain": [
       "           Agric      Food       Soda       Beer       Smoke      Toys   \\\n",
       "Agric  42.451075  12.777359  17.209770  14.250394  16.219475  18.914251   \n",
       "Food   12.777359  21.779965  17.443900  15.594761  18.491971  16.165161   \n",
       "Soda   17.209770  17.443900  55.908805  22.182191  20.202499  23.873275   \n",
       "Beer   14.250394  15.594761  22.182191  29.627435  17.614668  18.133782   \n",
       "Smoke  16.219475  18.491971  20.202499  17.614668  52.002929  19.335637   \n",
       "\n",
       "           Fun        Books      Hshld      Clths  ...      BusSv      Comps  \\\n",
       "Agric  22.638322  18.296609  13.223025  20.850108  ...  20.903907  21.584443   \n",
       "Food   17.568479  14.612466  13.324245  17.727510  ...  13.496575  12.765217   \n",
       "Soda   29.542519  22.979945  19.239053  25.678783  ...  21.233660  22.694546   \n",
       "Beer   19.659889  14.860450  16.521366  18.113976  ...  15.614236  15.218682   \n",
       "Smoke  21.328569  16.091168  15.338208  19.056979  ...  16.705665  17.801113   \n",
       "\n",
       "           Chips      LabEq      Paper      Boxes      Trans      Whlsl  \\\n",
       "Agric  23.892899  22.037766  16.420213  18.782065  17.231559  16.281772   \n",
       "Food   13.542835  14.209125  13.929295  14.572044  13.161099  13.146036   \n",
       "Soda   25.323608  24.002609  21.703203  21.708653  20.390975  20.700827   \n",
       "Beer   16.755136  16.111384  16.074474  16.009318  15.115613  13.786886   \n",
       "Smoke  17.488624  18.884657  17.748387  18.127234  14.123070  17.852719   \n",
       "\n",
       "           Rtail      Meals  \n",
       "Agric  17.546442  16.058984  \n",
       "Food   14.960421  14.271160  \n",
       "Soda   20.286513  20.347367  \n",
       "Beer   16.046628  16.005152  \n",
       "Smoke  14.949859  15.885271  \n",
       "\n",
       "[5 rows x 43 columns]"
      ]
     },
     "execution_count": 193,
     "metadata": {},
     "output_type": "execute_result"
    }
   ],
   "source": [
    "#calculate Vhat\n",
    "V_hat = train.iloc[:, 3:].cov()\n",
    "\n",
    "#calculate average correlation\n",
    "grand_avg_corr = 0\n",
    "correlations = train.iloc[:, 3:].corr()\n",
    "for i in range(43):\n",
    "    grand_avg_corr += np.sum(correlations.iloc[i, i + 1:])\n",
    "grand_avg_corr /= (43 * (43 - 1)) / 2\n",
    "\n",
    "#calculate Vcc\n",
    "Vcc = V_hat/correlations * grand_avg_corr\n",
    "\n",
    "# convert the diagonal entires back into their original covariance\n",
    "for i in range(43):\n",
    "    Vcc.iloc[i,i] = V_hat.iat[i,i]\n",
    "\n",
    "#calculate V_shrink\n",
    "V_shrink = 0.3 * Vcc + 0.7 * V_hat\n",
    "V_shrink.head()"
   ]
  },
  {
   "cell_type": "markdown",
   "metadata": {},
   "source": [
    "Second, with the robust estimation of parameters, we may construct the following robust version\n",
    "of portfolios:\n",
    "<br>\n",
    "<br>\n",
    "• TAN-robust: The tangency portfolio using Vshrink and µ\n",
    "CAPM as problem inputs;\n",
    "<br>\n",
    "• GMV-robust: The global minimum variance portfolio using Vshrink as the problem input.\n",
    "<br>\n",
    "<br>\n",
    "In other words, the (only) difference between TAN and TAN-robust is the input parameters (i.e.,\n",
    "expected return and covariance matrix), and we do not disturb the mathematical optimization problem\n",
    "itself. A similar thing can be said between GMV and GMV-robust"
   ]
  },
  {
   "cell_type": "code",
   "execution_count": 194,
   "metadata": {},
   "outputs": [],
   "source": [
    "#er of testing set\n",
    "er_train = train.iloc[:, 3:].mean()\n",
    "\n",
    "#get tangency robust wt\n",
    "wt_tan_robust_tr = np.linalg.inv(V_shrink) @ capm_returns\n",
    "wt_tan_robust_tr /= np.sum(wt_tan_robust_tr)\n",
    "\n",
    "#get gmv robust wt\n",
    "wt_gmv_robust_tr = np.linalg.inv(V_shrink) @ np.ones(43)\n",
    "wt_gmv_robust_tr /= np.sum(wt_gmv_robust_tr)\n",
    "\n",
    "#get tangency wt\n",
    "wt_tan_tr = np.linalg.inv(V_hat) @ er_train\n",
    "wt_tan_tr /= np.sum(wt_tan_tr)\n",
    "\n",
    "#get gmv wt\n",
    "wt_gmv_tr = np.linalg.inv(V_hat) @ np.ones(43)\n",
    "wt_gmv_tr /= np.sum(wt_gmv_tr)\n",
    "\n",
    "#ewp wt\n",
    "wt_ewp = np.ones(43)/43"
   ]
  },
  {
   "cell_type": "markdown",
   "metadata": {},
   "source": [
    "Finally, we can compare the six different portfolio constructions (MKT, EWP, TAN, TAN-robust,\n",
    "GMV, and GMV-robust) in an out-of-sample study. In this section, let us perform a simple version of the out-of-sample analysis. That is, we break\n",
    "the data into two components:\n",
    "<br>\n",
    "<br>\n",
    "• The training data correspond to the first 25 years, i.e., years 1986-2010.\n",
    "<br>\n",
    "• The test data correspond to the last 5 years, i.e., years 2011-2015.\n",
    "<br>\n",
    "<br>\n",
    "In the out-of-sample analysis, we construct the portfolios from the training data but evaluate them\n",
    "on the test data."
   ]
  },
  {
   "cell_type": "code",
   "execution_count": 195,
   "metadata": {},
   "outputs": [],
   "source": [
    "#er of testing set\n",
    "er_test = test.iloc[:, 3:].mean()\n",
    "\n",
    "#cov matrix of testing set\n",
    "V_test = EmpiricalCovariance().fit(test.iloc[:, 3:]).covariance_\n",
    "\n",
    "#get tangency wt\n",
    "wt_tan_te = np.linalg.inv(V_test) @ er_test\n",
    "wt_tan_te /= np.sum(wt_tan_te)\n",
    "\n",
    "#get gmv wt\n",
    "wt_gmv_te = np.linalg.inv(V_test) @ np.ones(43)\n",
    "wt_gmv_te /= np.sum(wt_gmv_te)"
   ]
  },
  {
   "cell_type": "markdown",
   "metadata": {},
   "source": [
    "Deliverable.\n",
    "<br>\n",
    "1. The out-of-sample σ vs. E[r] diagram. This diagram includes all of the 43 industry portfolios\n",
    "(treated as risky assets), MKT, and the special portfolios constructed from training data (EWP,\n",
    "TAN, GMV, TAN-robust, and GMV-robust). All of them are evaluated on the test data. Also,\n",
    "please include the “true” and “realized” EF curves.\n"
   ]
  },
  {
   "cell_type": "code",
   "execution_count": 196,
   "metadata": {},
   "outputs": [],
   "source": [
    "data_portfolios = {\n",
    "    \"gmv true\": [wt_gmv_te @ er_test, (wt_gmv_te.T @ V_test @ wt_gmv_te) ** 0.5],\n",
    "    \"tan true\": [wt_tan_te @ er_test, (wt_tan_te.T @ V_test @ wt_tan_te) ** 0.5],\n",
    "    \"gmv realized (non-robust)\": [wt_gmv_tr @ er_test, (wt_gmv_tr.T @ V_test @ wt_gmv_tr) ** 0.5],\n",
    "    \"tan realized (non-robust)\": [wt_tan_tr @ er_test, (wt_tan_tr.T @ V_test @ wt_tan_tr) ** 0.5],\n",
    "    \"gmv realized (robust)\": [wt_gmv_robust_tr @ er_test, (wt_gmv_robust_tr.T @ V_test @ wt_gmv_robust_tr) ** 0.5],\n",
    "    \"tan realized (robust)\": [wt_tan_robust_tr @ er_test, (wt_tan_robust_tr.T @ V_test @ wt_tan_robust_tr) ** 0.5],\n",
    "    \"EWP\": [wt_ewp @ er_test, (wt_ewp.T @ V_test @ wt_ewp) ** 0.5],\n",
    "    \"MKT\": [test.iloc[:, 1].mean(), test.iloc[:, 1].std()]\n",
    "}\n",
    "\n",
    "#add sharpe ratio\n",
    "for k, v in data_portfolios.items():\n",
    "    data_portfolios[k].append(v[0]/v[1])\n",
    "\n",
    "data_industries = {\n",
    "    \"industries\": test.columns,\n",
    "    \"sigma\": test.iloc[:, 3:].std(axis = 0),\n",
    "    \"Er\": test.iloc[:, 3:].mean(axis = 0)\n",
    "}"
   ]
  },
  {
   "cell_type": "code",
   "execution_count": 197,
   "metadata": {},
   "outputs": [
    {
     "data": {
      "text/plain": [
       "<matplotlib.legend.Legend at 0x1e0be134f10>"
      ]
     },
     "execution_count": 197,
     "metadata": {},
     "output_type": "execute_result"
    },
    {
     "data": {
      "image/png": "[encoded data removed]",
      "text/plain": [
       "<Figure size 1440x720 with 1 Axes>"
      ]
     },
     "metadata": {
      "needs_background": "light"
     },
     "output_type": "display_data"
    }
   ],
   "source": [
    "plt.figure(figsize = (20, 10))\n",
    "\n",
    "#plot each pair of gmv and tan portfolios\n",
    "for k, v in data_portfolios.items():\n",
    "    plt.scatter(v[1], v[0], label = k, marker = \"X\")\n",
    "\n",
    "#plot all assets\n",
    "plt.scatter(data_industries[\"sigma\"], data_industries[\"Er\"], label = \"43 Industries\", c = \"grey\")\n",
    "\n",
    "#true ef - ef of tan and gmv portfolios constructed using the testing set itself\n",
    "plot_ef(wt_tan_te, wt_gmv_te, V_test, er_test.values, label = \"True EF (testing set)\")\n",
    "\n",
    "#realized non-robust - ef of tan and gmv portfolios constructed from training set but optimized using covariance and er of testing set\n",
    "plot_ef(wt_tan_tr, wt_gmv_tr, V_test, er_test.values, label = \"Realized Non-robust\")\n",
    "\n",
    "#realized robust - ef of tan and gmv portfolios constructed from training set with shrinkage parameters but optimized using covariance and er of testing set\n",
    "plot_ef(wt_tan_robust_tr, wt_gmv_robust_tr, V_test, er_test.values, label = \"Realized Robust\")\n",
    "\n",
    "#estimated ef using training data - non-robust\n",
    "plot_ef(wt_tan_tr, wt_gmv_tr, V_hat, er_train.values, label = \"Estimated EF (Non-robust)\")\n",
    "\n",
    "#estimated ef using training data - robust\n",
    "plot_ef(wt_tan_robust_tr, wt_gmv_robust_tr, V_hat, er_train.values, label = \"Estimated EF (Robust)\")\n",
    "\n",
    "plt.legend()"
   ]
  },
  {
   "cell_type": "markdown",
   "metadata": {},
   "source": [
    "2. Compare the out-of-sample performances of MKT, EWP, TAN, TAN-robust, GMV, and GMV\u0002robust using the definitions and methods introduced above. Report your results in a 3 by 6\n",
    "table. (Recall that we have 3 performance metrics and 6 portfolios to compare.)\n"
   ]
  },
  {
   "cell_type": "code",
   "execution_count": 198,
   "metadata": {},
   "outputs": [
    {
     "data": {
      "text/html": [
       "<div>\n",
       "<style scoped>\n",
       "    .dataframe tbody tr th:only-of-type {\n",
       "        vertical-align: middle;\n",
       "    }\n",
       "\n",
       "    .dataframe tbody tr th {\n",
       "        vertical-align: top;\n",
       "    }\n",
       "\n",
       "    .dataframe thead th {\n",
       "        text-align: right;\n",
       "    }\n",
       "</style>\n",
       "<table border=\"1\" class=\"dataframe\">\n",
       "  <thead>\n",
       "    <tr style=\"text-align: right;\">\n",
       "      <th></th>\n",
       "      <th>gmv realized (non-robust)</th>\n",
       "      <th>tan realized (non-robust)</th>\n",
       "      <th>gmv realized (robust)</th>\n",
       "      <th>tan realized (robust)</th>\n",
       "      <th>EWP</th>\n",
       "      <th>MKT</th>\n",
       "    </tr>\n",
       "  </thead>\n",
       "  <tbody>\n",
       "    <tr>\n",
       "      <th>Er</th>\n",
       "      <td>0.863082</td>\n",
       "      <td>1.055857</td>\n",
       "      <td>1.122783</td>\n",
       "      <td>1.141517</td>\n",
       "      <td>0.822671</td>\n",
       "      <td>1.010833</td>\n",
       "    </tr>\n",
       "    <tr>\n",
       "      <th>Sigma</th>\n",
       "      <td>2.963800</td>\n",
       "      <td>4.201550</td>\n",
       "      <td>2.708489</td>\n",
       "      <td>2.712153</td>\n",
       "      <td>3.858277</td>\n",
       "      <td>3.502378</td>\n",
       "    </tr>\n",
       "    <tr>\n",
       "      <th>Sharpe</th>\n",
       "      <td>0.291208</td>\n",
       "      <td>0.251302</td>\n",
       "      <td>0.414542</td>\n",
       "      <td>0.420890</td>\n",
       "      <td>0.213222</td>\n",
       "      <td>0.288613</td>\n",
       "    </tr>\n",
       "  </tbody>\n",
       "</table>\n",
       "</div>"
      ],
      "text/plain": [
       "        gmv realized (non-robust)  tan realized (non-robust)  \\\n",
       "Er                       0.863082                   1.055857   \n",
       "Sigma                    2.963800                   4.201550   \n",
       "Sharpe                   0.291208                   0.251302   \n",
       "\n",
       "        gmv realized (robust)  tan realized (robust)       EWP       MKT  \n",
       "Er                   1.122783               1.141517  0.822671  1.010833  \n",
       "Sigma                2.708489               2.712153  3.858277  3.502378  \n",
       "Sharpe               0.414542               0.420890  0.213222  0.288613  "
      ]
     },
     "execution_count": 198,
     "metadata": {},
     "output_type": "execute_result"
    }
   ],
   "source": [
    "#Filter and generate a DataFrame\n",
    "data_portfolios2 = {k: v for k, v in data_portfolios.items() if k in [\"MKT\", \"EWP\", \"tan realized (non-robust)\", \"gmv realized (non-robust)\", \"tan realized (robust)\", \"gmv realized (robust)\"]}\n",
    "summary_table = pd.DataFrame.from_dict(data_portfolios2, orient='index', columns=[\"Er\", \"Sigma\", \"Sharpe\"]).T\n",
    "summary_table"
   ]
  },
  {
   "cell_type": "markdown",
   "metadata": {},
   "source": [
    "3. Contrast the table for out-of-sample performance with that for in-sample performance. What\n",
    "are your findings and insights? Also, are there any limitations to the current evaluation method\u0002ology?\n"
   ]
  },
  {
   "cell_type": "code",
   "execution_count": 199,
   "metadata": {},
   "outputs": [
    {
     "data": {
      "text/html": [
       "<div>\n",
       "<style scoped>\n",
       "    .dataframe tbody tr th:only-of-type {\n",
       "        vertical-align: middle;\n",
       "    }\n",
       "\n",
       "    .dataframe tbody tr th {\n",
       "        vertical-align: top;\n",
       "    }\n",
       "\n",
       "    .dataframe thead th {\n",
       "        text-align: right;\n",
       "    }\n",
       "</style>\n",
       "<table border=\"1\" class=\"dataframe\">\n",
       "  <thead>\n",
       "    <tr style=\"text-align: right;\">\n",
       "      <th></th>\n",
       "      <th>in-sample gmv (non-robust)</th>\n",
       "      <th>in-sample tan (non-robust)</th>\n",
       "      <th>in_sample gmv (robust)</th>\n",
       "      <th>in-sample tan (robust)</th>\n",
       "      <th>EWP</th>\n",
       "      <th>MKT</th>\n",
       "    </tr>\n",
       "  </thead>\n",
       "  <tbody>\n",
       "    <tr>\n",
       "      <th>Er</th>\n",
       "      <td>0.467903</td>\n",
       "      <td>2.100185</td>\n",
       "      <td>0.486128</td>\n",
       "      <td>0.539942</td>\n",
       "      <td>0.697483</td>\n",
       "      <td>0.561467</td>\n",
       "    </tr>\n",
       "    <tr>\n",
       "      <th>Sigma</th>\n",
       "      <td>2.885562</td>\n",
       "      <td>6.113378</td>\n",
       "      <td>3.055273</td>\n",
       "      <td>3.412344</td>\n",
       "      <td>23.048278</td>\n",
       "      <td>4.657505</td>\n",
       "    </tr>\n",
       "    <tr>\n",
       "      <th>Sharpe</th>\n",
       "      <td>0.162153</td>\n",
       "      <td>0.343539</td>\n",
       "      <td>0.159111</td>\n",
       "      <td>0.158232</td>\n",
       "      <td>0.030262</td>\n",
       "      <td>0.120551</td>\n",
       "    </tr>\n",
       "  </tbody>\n",
       "</table>\n",
       "</div>"
      ],
      "text/plain": [
       "        in-sample gmv (non-robust)  in-sample tan (non-robust)  \\\n",
       "Er                        0.467903                    2.100185   \n",
       "Sigma                     2.885562                    6.113378   \n",
       "Sharpe                    0.162153                    0.343539   \n",
       "\n",
       "        in_sample gmv (robust)  in-sample tan (robust)        EWP       MKT  \n",
       "Er                    0.486128                0.539942   0.697483  0.561467  \n",
       "Sigma                 3.055273                3.412344  23.048278  4.657505  \n",
       "Sharpe                0.159111                0.158232   0.030262  0.120551  "
      ]
     },
     "execution_count": 199,
     "metadata": {},
     "output_type": "execute_result"
    }
   ],
   "source": [
    "data_insample = {\n",
    "    \"in-sample gmv (non-robust)\": [wt_gmv_tr @ er_train, (wt_gmv_tr.T @ V_hat @ wt_gmv_tr) ** 0.5],\n",
    "    \"in-sample tan (non-robust)\": [wt_tan_tr @ er_train, (wt_tan_tr.T @ V_hat @ wt_tan_tr) ** 0.5],\n",
    "    \"in_sample gmv (robust)\": [wt_gmv_robust_tr @ er_train, (wt_gmv_robust_tr.T @ V_hat @ wt_gmv_robust_tr) ** 0.5],\n",
    "    \"in-sample tan (robust)\": [wt_tan_robust_tr @ er_train, (wt_tan_robust_tr.T @ V_hat @ wt_tan_robust_tr) ** 0.5],\n",
    "    \"EWP\": [wt_ewp @ er_train, wt_ewp.T @ V_hat @ wt_ewp],\n",
    "    \"MKT\": [train.iloc[:, 1].mean(), train.iloc[:, 1].std(),],\n",
    "}\n",
    "\n",
    "#calculate sharpe\n",
    "for k, v in data_insample.items():\n",
    "    data_insample[k].append(v[0]/v[1])\n",
    "\n",
    "summary_table2 = pd.DataFrame.from_dict(data_insample, orient = 'index', columns = [\"Er\", \"Sigma\", \"Sharpe\"]).T\n",
    "summary_table2"
   ]
  },
  {
   "cell_type": "markdown",
   "metadata": {},
   "source": [
    "Answer: ___"
   ]
  },
  {
   "cell_type": "markdown",
   "metadata": {},
   "source": [
    "## 2. Data Challenge\n",
    "\n",
    "In this section, we'll attempt to optimize the shrinkage parameter around several different variants of the covariance parameter estimates demonstrated in class, as well as some alternative methods and determine the most optimal approach to portfolio optimization"
   ]
  },
  {
   "cell_type": "markdown",
   "metadata": {},
   "source": [
    "### 2.1 Optimizing shrinkage parameters for Constant Covariance Matrix Approach\n",
    "\n",
    "Continuing from the previous section, we'll now try to find the optimal shrinkage parameter for Vshrink based on identity matrix, diagonal matrix, Vcc and empirical V - in descending degrees of generalization. To help us out, we also wrote several functions to automate certain processes.\n",
    "\n",
    "1. generate_vshrink: This function takes any dataframe and a given shrinkage parameter, and generates Vshrink from them.\n",
    "2. generate_folds: This function takes a dataframe and generates n folds with it. It outputs a nested list of indices for each fold.\n",
    "3. cross_val: This function takes the dataframe, fold count as well as a shrinkage parameter, then passes it to the previous two functions to generate tangency and gmv portfolios. For each fold, it uses the training set to derive the gmv and tan weights, calculate the sharpe ratio of the realized gmv and tan portfolios and return them as two separate lists (one for each portfolio)\n",
    "4. optimize_shrinkage: This function passes parameters to all of the preceding functions and makes use of skopt to optimize for the shrinkage parameter which maximizes sharpe ratio of the tangency portfolio."
   ]
  },
  {
   "cell_type": "code",
   "execution_count": 200,
   "metadata": {},
   "outputs": [],
   "source": [
    "#function to generate v_shrink\n",
    "def generate_vshrink(df, sp, estimation_method = \"cc\"):\n",
    "    #calculate Vhat\n",
    "    V_hat = df.cov()\n",
    "\n",
    "    if estimation_method == \"cc\":\n",
    "        #calculate average correlation\n",
    "        grand_avg_corr = 0\n",
    "        correlations = df.corr()\n",
    "        for i in range(len(df.columns)):\n",
    "            grand_avg_corr += np.sum(correlations.iloc[i, i + 1:])\n",
    "        grand_avg_corr /= (43 * (43 - 1)) / 2\n",
    "\n",
    "        #calculate Vcc\n",
    "        V_est = V_hat/correlations * grand_avg_corr\n",
    "\n",
    "        # convert the diagonal entires back into their original covariance\n",
    "        for i in range(len(df.columns)):\n",
    "            V_est.iloc[i,i] = V_hat.iat[i,i]\n",
    "\n",
    "    elif estimation_method == \"diagonal\":\n",
    "        V_est = np.eye(len(df.columns)) * V_hat\n",
    "\n",
    "    #calculate V_shrink\n",
    "    if estimation_method == \"identity\":\n",
    "        V_shrink = np.eye(len(df.columns))\n",
    "    else:\n",
    "        V_shrink = sp * V_est + (1 - sp) * V_hat\n",
    "\n",
    "    return V_shrink\n",
    "    \n",
    "def generate_folds(df, n_folds, set_seed = True):\n",
    "    fold_size = np.floor(len(df.index)/n_folds)\n",
    "    indices = list(range(len(df.index)))\n",
    "    folds = []\n",
    "    \n",
    "    if set_seed:\n",
    "        np.random.seed(42)\n",
    "\n",
    "    for i in range(n_folds):\n",
    "        f = np.random.choice(indices, int(fold_size), replace = False, )\n",
    "        folds.append(f)\n",
    "        indices = [i for i in indices if i not in f]\n",
    "\n",
    "    return folds\n",
    "\n",
    "def cross_val(df, folds, sp, n_iter, portfolio_type, estimation_method = \"cc\", return_ls = False):\n",
    "    sharpe_iter = []\n",
    "    for r in range(n_iter):\n",
    "        sharpe = []\n",
    "        for i in folds:\n",
    "            #validation set\n",
    "            df_validate = df.iloc[i, 3:46]\n",
    "            Er_validate = df_validate.mean()\n",
    "\n",
    "            #training set\n",
    "            df_train = df.iloc[~df.index.isin(i), 3:46]\n",
    "            av_mkt_rtn_train = df.iloc[~df.index.isin(i), 1].mean()\n",
    "            V_shrink = generate_vshrink(df_train, sp, estimation_method)\n",
    "\n",
    "            beta_train = get_beta(df_train)\n",
    "            beta_bar = np.mean(beta_train)\n",
    "            beta_shrink = sp * beta_bar + (1 - sp) * beta_train\n",
    "            Er_train = beta_shrink * av_mkt_rtn_train\n",
    "\n",
    "            #calculate sharpe ratio\n",
    "            if portfolio_type == \"tan\":\n",
    "                train_tan = tangency(Er_train, V_shrink)\n",
    "                sharpe_tan_realized = train_tan @ Er_validate / np.std(df_validate @ train_tan)\n",
    "                sharpe.append(sharpe_tan_realized)\n",
    "            elif portfolio_type == \"gmv\":\n",
    "                train_gmv = gmv(V_shrink)\n",
    "                sharpe_gmv_realized = train_gmv @ Er_validate / np.std(df_validate @ train_gmv)\n",
    "                sharpe.append(sharpe_gmv_realized)\n",
    "\n",
    "        #append mean sharpe of current iteration to sharpe_iter list\n",
    "        sharpe_iter.append(np.mean(sharpe))\n",
    "\n",
    "    if return_ls:\n",
    "        #return the realized tangency portfolio's sharpe ratio for each fold\n",
    "        return sharpe\n",
    "    else:\n",
    "        #return average sharpe ratio across all folds and iterations; only meaningful when set_seed is false for generate_folds\n",
    "        return np.mean(sharpe_iter)\n",
    "\n",
    "def objective_fn(sp, estimation_method = \"cc\", return_ls = False):\n",
    "    sp = sp[0]\n",
    "    #generate folds\n",
    "    folds = generate_folds(df, 20)\n",
    "    r = cross_val(df, folds, sp, 1, \"tan\", estimation_method = estimation_method, return_ls = return_ls)\n",
    "    if return_ls:\n",
    "        return r\n",
    "    else:\n",
    "        return -r"
   ]
  },
  {
   "cell_type": "markdown",
   "metadata": {},
   "source": [
    "Here's a test run of our cross validation function for 20 shrinkage values; 20-fold cross validation of each shrinkage constant and the average for each shrinkage value is then plotted. \n",
    "\n",
    "From the graph below, we can see that the realized sharpe ratio for the tangency portfolio peaks with a shrinkage of approximately 0.8, indicating that this is the region where the optimal shrinkage occurs."
   ]
  },
  {
   "cell_type": "code",
   "execution_count": 201,
   "metadata": {},
   "outputs": [
    {
     "data": {
      "text/plain": [
       "[<matplotlib.lines.Line2D at 0x1e0be0728b0>]"
      ]
     },
     "execution_count": 201,
     "metadata": {},
     "output_type": "execute_result"
    },
    {
     "data": {
      "image/png": "[encoded data removed]",
      "text/plain": [
       "<Figure size 432x288 with 1 Axes>"
      ]
     },
     "metadata": {
      "needs_background": "light"
     },
     "output_type": "display_data"
    }
   ],
   "source": [
    "output_array = []\n",
    "\n",
    "shrinkage_space = np.linspace(0, 1, 20)\n",
    "for i in shrinkage_space:\n",
    "    s = cross_val(df, generate_folds(df, 20), i, 1, \"tan\")\n",
    "    output_array.append(s)\n",
    "\n",
    "plt.plot(shrinkage_space, output_array)"
   ]
  },
  {
   "cell_type": "markdown",
   "metadata": {},
   "source": [
    "We then employed scipy optimize's minimize function to get a better estimate of the optimal shrinkage value. As we can see from the results below, the optimum shrinkage for our constant covariance matrix method is 0.7467 (4 s.f)."
   ]
  },
  {
   "cell_type": "code",
   "execution_count": 202,
   "metadata": {},
   "outputs": [
    {
     "name": "stdout",
     "output_type": "stream",
     "text": [
      "Optimization terminated successfully    (Exit mode 0)\n",
      "            Current function value: -0.21141230870624722\n",
      "            Iterations: 9\n",
      "            Function evaluations: 19\n",
      "            Gradient evaluations: 9\n"
     ]
    }
   ],
   "source": [
    "from scipy.optimize import minimize\n",
    "\n",
    "#set initial guess\n",
    "w0 = [0.2]\n",
    "\n",
    "#set bounds\n",
    "bounds = [(0, 1)]\n",
    "\n",
    "#optimize\n",
    "r = minimize(\n",
    "    objective_fn,\n",
    "    w0,\n",
    "    method = \"SLSQP\",\n",
    "    bounds = bounds,\n",
    "    options={'ftol': 1e-11, 'disp': True}\n",
    ")"
   ]
  },
  {
   "cell_type": "code",
   "execution_count": 203,
   "metadata": {},
   "outputs": [
    {
     "data": {
      "text/plain": [
       "0.8362519115512487"
      ]
     },
     "execution_count": 203,
     "metadata": {},
     "output_type": "execute_result"
    }
   ],
   "source": [
    "#print optimal shrinkage value\n",
    "r.x[0]"
   ]
  },
  {
   "cell_type": "markdown",
   "metadata": {},
   "source": [
    "We then repeated the same optimization process for the identity matrix and diagonal matrix methods of covariance estimation"
   ]
  },
  {
   "cell_type": "code",
   "execution_count": 204,
   "metadata": {},
   "outputs": [
    {
     "name": "stdout",
     "output_type": "stream",
     "text": [
      "Optimization terminated successfully    (Exit mode 0)\n",
      "            Current function value: -0.20037113535692827\n",
      "            Iterations: 5\n",
      "            Function evaluations: 10\n",
      "            Gradient evaluations: 5\n"
     ]
    }
   ],
   "source": [
    "#for identity matrix\n",
    "r_identity = minimize(\n",
    "    lambda w: objective_fn(w, \"identity\"),\n",
    "    w0,\n",
    "    method = \"SLSQP\",\n",
    "    bounds = bounds,\n",
    "    options={'ftol': 1e-11, 'disp': True}\n",
    ")"
   ]
  },
  {
   "cell_type": "code",
   "execution_count": 205,
   "metadata": {},
   "outputs": [
    {
     "data": {
      "text/plain": [
       "1.0"
      ]
     },
     "execution_count": 205,
     "metadata": {},
     "output_type": "execute_result"
    }
   ],
   "source": [
    "r_identity.x[0]"
   ]
  },
  {
   "cell_type": "code",
   "execution_count": 206,
   "metadata": {},
   "outputs": [
    {
     "name": "stdout",
     "output_type": "stream",
     "text": [
      "Optimization terminated successfully    (Exit mode 0)\n",
      "            Current function value: -0.24760519282794474\n",
      "            Iterations: 7\n",
      "            Function evaluations: 14\n",
      "            Gradient evaluations: 7\n"
     ]
    }
   ],
   "source": [
    "#for diagonal matrix\n",
    "r_diagonal = minimize(\n",
    "    lambda w: objective_fn(w, \"diagonal\"),\n",
    "    w0,\n",
    "    method = \"SLSQP\",\n",
    "    bounds = bounds,\n",
    "    options={'ftol': 1e-11, 'disp': True}\n",
    ")"
   ]
  },
  {
   "cell_type": "code",
   "execution_count": 207,
   "metadata": {},
   "outputs": [
    {
     "data": {
      "text/plain": [
       "0.6877353654811763"
      ]
     },
     "execution_count": 207,
     "metadata": {},
     "output_type": "execute_result"
    }
   ],
   "source": [
    "r_diagonal.x[0]"
   ]
  },
  {
   "cell_type": "markdown",
   "metadata": {},
   "source": [
    "### 2.2. In-sample Performance\n"
   ]
  },
  {
   "cell_type": "code",
   "execution_count": 208,
   "metadata": {},
   "outputs": [],
   "source": [
    "cv_cc = objective_fn(r.x, return_ls = True)\n",
    "cv_diagonal = objective_fn(r_diagonal.x, return_ls = True)\n",
    "cv_identity = objective_fn(r_identity.x, return_ls = True)"
   ]
  },
  {
   "cell_type": "code",
   "execution_count": 209,
   "metadata": {},
   "outputs": [
    {
     "data": {
      "text/plain": [
       "<matplotlib.legend.Legend at 0x1e0bdd9c8b0>"
      ]
     },
     "execution_count": 209,
     "metadata": {},
     "output_type": "execute_result"
    },
    {
     "data": {
      "image/png": "[encoded data removed]",
      "text/plain": [
       "<Figure size 1080x720 with 1 Axes>"
      ]
     },
     "metadata": {
      "needs_background": "light"
     },
     "output_type": "display_data"
    }
   ],
   "source": [
    "plt.figure(figsize = (15, 10))\n",
    "plt.plot(cv_cc, label = \"constant covariance\")\n",
    "plt.plot(cv_diagonal, label = \"diagonal matrix\")\n",
    "plt.plot(cv_identity, label = \"identity matrix\")\n",
    "\n",
    "plt.legend()"
   ]
  },
  {
   "cell_type": "code",
   "execution_count": 222,
   "metadata": {},
   "outputs": [
    {
     "name": "stdout",
     "output_type": "stream",
     "text": [
      "cv_cc - mean sharpe: 0.211, std sharpe: 0.254\n",
      "cv_diagonal - mean sharpe: 0.209, std sharpe: 0.247\n",
      "cv_identity - mean sharpe: 0.206, std sharpe: 0.261\n"
     ]
    }
   ],
   "source": [
    "for i in [\"cv_cc\", \"cv_diagonal\", \"cv_identity\"]:\n",
    "    v = eval(i)\n",
    "    print(f\"{i} - mean sharpe: {np.mean(v):.3f}, std sharpe: {np.std(v):.3f}\")"
   ]
  },
  {
   "cell_type": "markdown",
   "metadata": {},
   "source": [
    "### 2.3. Out-of-sample Performance"
   ]
  },
  {
   "cell_type": "code",
   "execution_count": null,
   "metadata": {},
   "outputs": [],
   "source": [
    "#simple estimate (using V_hat directly)\n"
   ]
  },
  {
   "cell_type": "code",
   "execution_count": 223,
   "metadata": {},
   "outputs": [
    {
     "data": {
      "text/plain": [
       "{'Er': 8.253313418297703,\n",
       " 'sigma': 11.709799859834545,\n",
       " 'var': 137.11941275738113,\n",
       " 'Sharpe': 0.7048210487872778}"
      ]
     },
     "execution_count": 223,
     "metadata": {},
     "output_type": "execute_result"
    }
   ],
   "source": [
    "#constant covariance\n",
    "Vshrink_cc = r.x[0] * V_hat + (1 - r.x[0]) * Vcc\n",
    "tan_cc = np.linalg.inv(Vshrink_cc) @ er_test\n",
    "tan_cc /= np.sum(tan_cc)\n",
    "evaluate_portfolio_performance_on_data(tan_cc, test.iloc[:, 3:46])"
   ]
  },
  {
   "cell_type": "code",
   "execution_count": 224,
   "metadata": {},
   "outputs": [
    {
     "data": {
      "text/plain": [
       "{'Er': 6.67588840432709,\n",
       " 'sigma': 9.306510298955633,\n",
       " 'var': 86.61113394456726,\n",
       " 'Sharpe': 0.7173353050580357}"
      ]
     },
     "execution_count": 224,
     "metadata": {},
     "output_type": "execute_result"
    }
   ],
   "source": [
    "#diagonal\n",
    "Vshrink_diag = r_diagonal.x[0] * V_hat + (1 - r.x[0]) * V_hat * np.eye(len(V_hat.columns))\n",
    "tan_diag = np.linalg.inv(Vshrink_diag) @ er_test\n",
    "tan_diag /= np.sum(tan_diag)\n",
    "evaluate_portfolio_performance_on_data(tan_diag, test.iloc[:, 3:46])"
   ]
  },
  {
   "cell_type": "code",
   "execution_count": 225,
   "metadata": {},
   "outputs": [
    {
     "data": {
      "text/plain": [
       "{'Er': 2.166245094990632,\n",
       " 'sigma': 3.7208640801017014,\n",
       " 'var': 13.84482950259108,\n",
       " 'Sharpe': 0.582188719704973}"
      ]
     },
     "execution_count": 225,
     "metadata": {},
     "output_type": "execute_result"
    }
   ],
   "source": [
    "#identity\n",
    "Vshrink_id = np.eye(len(V_hat.columns))\n",
    "tan_id = np.linalg.inv(Vshrink_id) @ er_test\n",
    "tan_id /= np.sum(tan_id)\n",
    "evaluate_portfolio_performance_on_data(tan_id, test.iloc[:, 3:46])"
   ]
  },
  {
   "cell_type": "markdown",
   "metadata": {},
   "source": [
    "### 2.4. Evaluation I"
   ]
  },
  {
   "cell_type": "markdown",
   "metadata": {},
   "source": []
  },
  {
   "cell_type": "markdown",
   "metadata": {},
   "source": [
    "### 2.5. Using only most recent 5 years of Data"
   ]
  },
  {
   "cell_type": "code",
   "execution_count": null,
   "metadata": {},
   "outputs": [],
   "source": [
    "#test with most recent 5 year data (repeat shrinkage optimization for constant covariance matrix method and do out-of-sample testing) then see if it's better"
   ]
  },
  {
   "cell_type": "markdown",
   "metadata": {},
   "source": [
    "### 2.6. Other Portfolio Strategies (sortino maximizing, maximum diversification, EWP)"
   ]
  },
  {
   "cell_type": "code",
   "execution_count": null,
   "metadata": {},
   "outputs": [],
   "source": [
    "#with results from 2.5, try sortino maximizing, maximum diversification and EWP to see which portfolio strategy is the best "
   ]
  },
  {
   "cell_type": "code",
   "execution_count": null,
   "metadata": {},
   "outputs": [],
   "source": []
  },
  {
   "cell_type": "markdown",
   "metadata": {},
   "source": [
    "### 3. Conclusion"
   ]
  },
  {
   "cell_type": "markdown",
   "metadata": {},
   "source": []
  }
 ],
 "metadata": {
  "kernelspec": {
   "display_name": "base",
   "language": "python",
   "name": "python3"
  },
  "language_info": {
   "codemirror_mode": {
    "name": "ipython",
    "version": 3
   },
   "file_extension": ".py",
   "mimetype": "text/x-python",
   "name": "python",
   "nbconvert_exporter": "python",
   "pygments_lexer": "ipython3",
   "version": "3.9.12"
  }
 },
 "nbformat": 4,
 "nbformat_minor": 2
}
